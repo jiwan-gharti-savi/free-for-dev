{
  "nbformat": 4,
  "nbformat_minor": 0,
  "metadata": {
    "colab": {
      "provenance": [],
      "authorship_tag": "ABX9TyMaXmZ9hynMJyMpWuXioZ5+",
      "include_colab_link": true
    },
    "kernelspec": {
      "name": "python3",
      "display_name": "Python 3"
    },
    "language_info": {
      "name": "python"
    }
  },
  "cells": [
    {
      "cell_type": "markdown",
      "metadata": {
        "id": "view-in-github",
        "colab_type": "text"
      },
      "source": [
        "<a href=\"https://colab.research.google.com/github/jiwan-gharti-savi/free-for-dev/blob/master/SelfAttention.ipynb\" target=\"_parent\"><img src=\"https://colab.research.google.com/assets/colab-badge.svg\" alt=\"Open In Colab\"/></a>"
      ]
    },
    {
      "cell_type": "code",
      "execution_count": 57,
      "metadata": {
        "id": "V92W4yImmFwZ"
      },
      "outputs": [],
      "source": [
        "import torch\n",
        "import torch.nn as nn\n",
        "import torch.nn.functional as F"
      ]
    },
    {
      "cell_type": "code",
      "source": [
        "\n",
        "\n",
        "\n"
      ],
      "metadata": {
        "id": "OStKhjBJmNe3"
      },
      "execution_count": 163,
      "outputs": []
    },
    {
      "cell_type": "code",
      "source": [
        "values = nn.Linear(2, 256, bias=False)\n"
      ],
      "metadata": {
        "id": "3eMWqN-dmx-t"
      },
      "execution_count": 59,
      "outputs": []
    },
    {
      "cell_type": "code",
      "source": [
        "values"
      ],
      "metadata": {
        "colab": {
          "base_uri": "https://localhost:8080/"
        },
        "id": "eFILy1jBm3ZL",
        "outputId": "3b85c7f3-7b80-46d5-cd49-71f03abb2863"
      },
      "execution_count": 60,
      "outputs": [
        {
          "output_type": "execute_result",
          "data": {
            "text/plain": [
              "Linear(in_features=2, out_features=256, bias=False)"
            ]
          },
          "metadata": {},
          "execution_count": 60
        }
      ]
    },
    {
      "cell_type": "code",
      "source": [
        "linear_features = values(torch.tensor([1,2], dtype=torch.float32))"
      ],
      "metadata": {
        "id": "PuweCxABm4pR"
      },
      "execution_count": 61,
      "outputs": []
    },
    {
      "cell_type": "code",
      "source": [
        "linear_features.size()"
      ],
      "metadata": {
        "colab": {
          "base_uri": "https://localhost:8080/"
        },
        "id": "9_WVpcbaniTK",
        "outputId": "671c8c95-a2a2-453e-ec8e-9569d042b27e"
      },
      "execution_count": 62,
      "outputs": [
        {
          "output_type": "execute_result",
          "data": {
            "text/plain": [
              "torch.Size([256])"
            ]
          },
          "metadata": {},
          "execution_count": 62
        }
      ]
    },
    {
      "cell_type": "code",
      "source": [
        "values.weight"
      ],
      "metadata": {
        "colab": {
          "base_uri": "https://localhost:8080/"
        },
        "id": "t1fOfeiGn3vK",
        "outputId": "d2980dfc-1177-42c4-96be-390c72a95569"
      },
      "execution_count": 63,
      "outputs": [
        {
          "output_type": "execute_result",
          "data": {
            "text/plain": [
              "Parameter containing:\n",
              "tensor([[ 6.7313e-01, -1.8661e-02],\n",
              "        [-6.2013e-02,  2.8488e-01],\n",
              "        [-2.8281e-01,  3.0558e-02],\n",
              "        [-6.0827e-01, -2.3294e-01],\n",
              "        [-4.6213e-01,  2.8557e-03],\n",
              "        [ 5.0369e-01, -8.0881e-02],\n",
              "        [ 2.9752e-02,  6.5976e-01],\n",
              "        [ 2.9833e-01,  6.2319e-01],\n",
              "        [-2.4784e-01, -5.5923e-01],\n",
              "        [-9.2070e-03,  5.0430e-01],\n",
              "        [-4.5312e-01,  6.2466e-01],\n",
              "        [-1.8034e-01, -2.3809e-01],\n",
              "        [ 1.7344e-01, -4.3611e-01],\n",
              "        [-6.6708e-01,  1.6521e-01],\n",
              "        [-1.5760e-01,  3.1007e-01],\n",
              "        [ 6.1163e-01,  6.6549e-01],\n",
              "        [-6.2187e-01,  1.6859e-01],\n",
              "        [-6.6035e-01,  1.2335e-01],\n",
              "        [ 5.6807e-01,  3.6127e-01],\n",
              "        [-5.6038e-02,  3.8307e-01],\n",
              "        [ 6.4438e-01, -1.3951e-02],\n",
              "        [-3.3232e-01,  6.8673e-01],\n",
              "        [ 4.2567e-01,  1.3697e-01],\n",
              "        [ 6.1080e-02,  4.9819e-01],\n",
              "        [ 5.6329e-02, -3.8066e-01],\n",
              "        [-5.7878e-01, -3.3766e-01],\n",
              "        [-1.0353e-02, -2.9903e-01],\n",
              "        [ 6.6092e-01, -2.1924e-01],\n",
              "        [-4.5122e-01, -4.6418e-01],\n",
              "        [ 2.9371e-02,  4.8697e-01],\n",
              "        [ 4.9994e-01,  2.8053e-01],\n",
              "        [-2.7617e-01,  2.7911e-01],\n",
              "        [-2.7212e-01, -2.9327e-01],\n",
              "        [ 1.3158e-01, -9.2843e-02],\n",
              "        [-4.1512e-01,  3.6004e-01],\n",
              "        [-3.2561e-01, -1.5436e-01],\n",
              "        [-4.8750e-01, -6.6908e-01],\n",
              "        [ 4.8380e-02,  1.1638e-02],\n",
              "        [ 5.1868e-01, -1.1605e-01],\n",
              "        [-5.5790e-01, -2.6003e-02],\n",
              "        [-1.6575e-01,  3.1173e-01],\n",
              "        [-1.6043e-01, -2.8531e-02],\n",
              "        [-6.9483e-01, -5.9689e-01],\n",
              "        [-1.0980e-01,  3.8497e-01],\n",
              "        [-8.9494e-02, -2.1322e-02],\n",
              "        [ 2.1791e-01, -5.2093e-01],\n",
              "        [ 5.9580e-01,  1.0768e-01],\n",
              "        [-8.8255e-02, -1.6918e-02],\n",
              "        [-4.3912e-01, -5.8670e-01],\n",
              "        [ 6.1839e-01,  4.6304e-01],\n",
              "        [-5.0220e-01, -1.8314e-01],\n",
              "        [ 1.7557e-01, -2.5340e-01],\n",
              "        [ 3.3305e-01,  5.6748e-01],\n",
              "        [ 5.7427e-01,  1.0469e-01],\n",
              "        [ 6.2071e-01,  1.9040e-01],\n",
              "        [-3.6344e-01,  3.9994e-01],\n",
              "        [ 4.1702e-01,  1.2044e-01],\n",
              "        [ 1.8313e-02,  6.1539e-01],\n",
              "        [ 5.0243e-01,  3.1015e-01],\n",
              "        [-3.4803e-01,  8.4109e-02],\n",
              "        [ 7.7532e-02, -4.4375e-01],\n",
              "        [-2.4040e-01, -5.7758e-01],\n",
              "        [ 4.8182e-01, -8.5063e-02],\n",
              "        [-1.9544e-01,  2.5081e-01],\n",
              "        [-5.2671e-01,  3.4307e-01],\n",
              "        [-2.9846e-02, -6.6228e-01],\n",
              "        [ 3.1464e-01, -1.4726e-01],\n",
              "        [-2.8424e-04,  1.2316e-01],\n",
              "        [ 6.2867e-01, -4.2510e-01],\n",
              "        [-6.1909e-02, -2.8538e-01],\n",
              "        [-3.9516e-01,  5.4363e-01],\n",
              "        [ 5.9076e-01, -5.3200e-01],\n",
              "        [ 1.0012e-01,  2.2968e-01],\n",
              "        [-6.2867e-01, -6.5158e-01],\n",
              "        [ 1.7512e-01, -4.7920e-01],\n",
              "        [ 2.7800e-01,  4.2122e-01],\n",
              "        [ 4.7495e-01, -4.5921e-01],\n",
              "        [ 3.4190e-01,  5.2605e-01],\n",
              "        [ 2.6522e-01,  6.4832e-01],\n",
              "        [-2.5343e-01, -3.8226e-01],\n",
              "        [ 2.1861e-01,  1.3232e-02],\n",
              "        [-2.5972e-01, -2.3458e-01],\n",
              "        [ 4.4879e-01, -1.6868e-01],\n",
              "        [ 4.4081e-01, -2.9566e-01],\n",
              "        [ 3.9968e-01, -4.2925e-01],\n",
              "        [ 1.9689e-01,  1.8311e-01],\n",
              "        [ 5.6159e-01,  5.7381e-01],\n",
              "        [ 2.6497e-01, -3.6970e-01],\n",
              "        [-4.1970e-01,  3.7952e-01],\n",
              "        [-5.6778e-01, -1.1662e-02],\n",
              "        [-1.6276e-01, -5.7356e-01],\n",
              "        [-5.9706e-02,  4.2464e-01],\n",
              "        [ 6.4749e-01,  3.3738e-01],\n",
              "        [-1.8999e-01,  6.7544e-01],\n",
              "        [-3.0297e-01, -5.9114e-01],\n",
              "        [-6.0449e-01, -5.7945e-01],\n",
              "        [ 5.3094e-01,  1.8113e-01],\n",
              "        [ 2.0311e-01, -4.5198e-01],\n",
              "        [-2.0695e-01,  8.0070e-02],\n",
              "        [-4.7971e-01, -4.9554e-01],\n",
              "        [ 3.6693e-01,  6.4868e-01],\n",
              "        [ 2.2065e-02, -3.6115e-01],\n",
              "        [-5.2921e-01, -1.9414e-01],\n",
              "        [ 3.7995e-01, -7.5455e-02],\n",
              "        [ 3.8042e-02, -3.7669e-01],\n",
              "        [-1.8303e-01, -1.1304e-01],\n",
              "        [-5.6496e-01,  4.0231e-01],\n",
              "        [-5.3643e-01,  6.1003e-01],\n",
              "        [-3.5766e-01,  6.7107e-01],\n",
              "        [ 3.7255e-01, -2.6350e-01],\n",
              "        [-6.5634e-01,  2.8380e-01],\n",
              "        [ 3.1822e-01,  3.1108e-01],\n",
              "        [-2.0678e-01, -3.7558e-01],\n",
              "        [ 8.7196e-02, -1.0954e-01],\n",
              "        [ 1.8261e-02,  4.9541e-01],\n",
              "        [-3.5305e-01, -2.5383e-02],\n",
              "        [-6.9701e-01, -5.8005e-01],\n",
              "        [-2.2812e-02, -4.6054e-01],\n",
              "        [ 4.3598e-01,  2.1084e-01],\n",
              "        [ 2.0834e-01, -4.2475e-01],\n",
              "        [ 7.3531e-02,  5.8111e-01],\n",
              "        [ 1.5479e-01, -9.6479e-03],\n",
              "        [-2.0134e-01,  2.9746e-01],\n",
              "        [ 3.4981e-01, -6.2886e-01],\n",
              "        [ 5.6615e-01,  5.5034e-01],\n",
              "        [-3.0668e-01,  3.4093e-01],\n",
              "        [ 4.5281e-01,  3.4654e-01],\n",
              "        [-5.9051e-01, -1.6756e-01],\n",
              "        [-5.3536e-01,  3.5106e-01],\n",
              "        [-6.9260e-01, -3.1990e-02],\n",
              "        [ 4.5012e-01, -9.5469e-02],\n",
              "        [ 2.8309e-02, -8.8389e-02],\n",
              "        [-5.9632e-02,  2.0833e-01],\n",
              "        [-5.8271e-01, -6.9889e-02],\n",
              "        [ 4.3342e-01,  3.0407e-01],\n",
              "        [ 2.3717e-01,  2.9938e-01],\n",
              "        [ 3.9484e-01, -2.1991e-01],\n",
              "        [ 1.4318e-01,  3.5776e-01],\n",
              "        [-6.1533e-01,  5.3779e-03],\n",
              "        [-2.3789e-01,  3.1814e-01],\n",
              "        [ 6.6906e-01, -4.6007e-02],\n",
              "        [ 4.1805e-01,  6.5131e-01],\n",
              "        [-3.0462e-02,  9.9019e-02],\n",
              "        [-4.1488e-01, -3.0235e-01],\n",
              "        [-2.4327e-01, -1.3125e-01],\n",
              "        [-3.9064e-01, -6.4864e-01],\n",
              "        [-5.4609e-01,  5.0267e-01],\n",
              "        [ 5.7120e-01, -1.0339e-01],\n",
              "        [-1.4829e-01, -5.0950e-01],\n",
              "        [ 7.7157e-02,  5.9990e-01],\n",
              "        [-2.4960e-01, -6.8430e-01],\n",
              "        [ 2.3519e-01, -5.0070e-01],\n",
              "        [-6.2212e-01, -1.1817e-01],\n",
              "        [ 2.9230e-01, -1.3593e-01],\n",
              "        [-3.5361e-01, -6.8125e-01],\n",
              "        [-2.8597e-01, -4.9114e-01],\n",
              "        [-5.8163e-01,  3.8031e-01],\n",
              "        [-3.8081e-01, -3.2900e-01],\n",
              "        [-1.7278e-02,  6.6753e-01],\n",
              "        [-3.8700e-01, -3.6015e-02],\n",
              "        [-1.3789e-01, -2.9786e-01],\n",
              "        [ 6.9280e-01,  5.3438e-01],\n",
              "        [ 1.4338e-01,  3.2238e-01],\n",
              "        [-4.4637e-01, -5.3688e-02],\n",
              "        [ 6.4793e-01,  5.3526e-01],\n",
              "        [-8.3340e-02,  3.6033e-01],\n",
              "        [ 5.3111e-02, -6.3713e-02],\n",
              "        [-1.2443e-01,  7.3308e-02],\n",
              "        [-5.4316e-01,  7.0578e-01],\n",
              "        [ 6.1228e-01,  2.8858e-01],\n",
              "        [ 3.2789e-01,  4.2031e-01],\n",
              "        [ 6.5297e-01,  2.4462e-01],\n",
              "        [-1.5649e-01,  4.1088e-01],\n",
              "        [ 6.4305e-01,  3.5681e-01],\n",
              "        [ 2.6512e-01, -3.2953e-02],\n",
              "        [-4.7689e-01, -2.7678e-01],\n",
              "        [-5.9545e-01,  4.4694e-01],\n",
              "        [ 4.8913e-01, -1.6802e-01],\n",
              "        [-1.0756e-01,  6.3354e-02],\n",
              "        [-5.7030e-02, -8.5455e-02],\n",
              "        [-3.0345e-01, -3.9475e-01],\n",
              "        [-1.4099e-01, -4.8710e-02],\n",
              "        [ 4.2506e-02, -2.3589e-02],\n",
              "        [ 1.9784e-01, -6.4313e-01],\n",
              "        [-1.1550e-02, -1.9790e-01],\n",
              "        [-1.4146e-01, -2.6771e-01],\n",
              "        [-5.0436e-01,  2.7385e-01],\n",
              "        [-1.8893e-01,  3.9694e-01],\n",
              "        [-1.3918e-01,  3.6251e-02],\n",
              "        [ 9.8076e-02, -1.3710e-01],\n",
              "        [ 9.6675e-02,  2.8372e-02],\n",
              "        [-2.7987e-01,  4.6825e-01],\n",
              "        [ 3.4566e-01, -8.7005e-02],\n",
              "        [ 5.0050e-01, -3.7823e-01],\n",
              "        [ 5.1041e-02, -3.3299e-01],\n",
              "        [ 1.2987e-02, -4.6141e-02],\n",
              "        [ 9.9055e-02, -7.3304e-02],\n",
              "        [ 2.6237e-01, -3.7992e-01],\n",
              "        [ 3.7995e-01,  4.5506e-01],\n",
              "        [ 5.6070e-01,  6.1257e-01],\n",
              "        [-1.4831e-01,  3.5601e-01],\n",
              "        [-5.1722e-01,  1.7895e-01],\n",
              "        [-4.1697e-01, -2.4783e-01],\n",
              "        [ 1.8430e-01,  1.1456e-01],\n",
              "        [-2.2753e-01,  3.7294e-01],\n",
              "        [-5.1721e-01, -4.2774e-01],\n",
              "        [-5.7494e-02,  3.6930e-01],\n",
              "        [-5.0478e-01, -4.6929e-01],\n",
              "        [ 6.3281e-02, -5.3323e-01],\n",
              "        [-3.7781e-01, -4.6605e-01],\n",
              "        [ 7.6056e-02, -5.0336e-01],\n",
              "        [-1.3137e-01,  1.1162e-01],\n",
              "        [-5.6955e-01, -6.5454e-01],\n",
              "        [-2.7604e-01,  6.9924e-01],\n",
              "        [ 4.0939e-01,  2.3810e-02],\n",
              "        [ 4.9054e-01, -6.3732e-01],\n",
              "        [ 2.2903e-01,  2.8294e-01],\n",
              "        [-1.6406e-02, -3.6243e-01],\n",
              "        [-1.5969e-02,  1.7751e-01],\n",
              "        [ 6.6866e-01, -3.0879e-01],\n",
              "        [ 4.8452e-01, -4.5628e-01],\n",
              "        [ 3.6693e-01, -5.7783e-01],\n",
              "        [ 1.5600e-01, -2.6877e-01],\n",
              "        [ 2.3139e-01,  6.8325e-01],\n",
              "        [-3.5674e-01, -4.3065e-01],\n",
              "        [ 4.8272e-01,  3.2904e-01],\n",
              "        [ 3.1242e-01, -6.2590e-01],\n",
              "        [ 4.9872e-02,  6.4063e-01],\n",
              "        [-3.4666e-01, -2.9109e-01],\n",
              "        [ 5.5948e-01, -5.5497e-01],\n",
              "        [-1.7960e-02, -7.0461e-01],\n",
              "        [ 8.2627e-02,  5.5044e-01],\n",
              "        [-1.3182e-01,  1.2548e-01],\n",
              "        [-2.5030e-01, -1.1112e-01],\n",
              "        [-5.3806e-01, -2.5461e-01],\n",
              "        [ 5.5548e-01, -4.0534e-01],\n",
              "        [-1.5542e-01, -6.8992e-01],\n",
              "        [-5.3536e-01, -3.6464e-01],\n",
              "        [ 2.7324e-02,  7.0035e-01],\n",
              "        [ 1.6057e-01,  4.7261e-01],\n",
              "        [ 1.6970e-01,  2.6231e-01],\n",
              "        [-4.2474e-01, -1.4772e-01],\n",
              "        [-5.5765e-01,  1.1654e-01],\n",
              "        [-6.3825e-01, -3.2850e-02],\n",
              "        [-5.5195e-01, -8.8842e-02],\n",
              "        [-2.0891e-02, -3.0679e-01],\n",
              "        [ 2.3315e-01,  5.5241e-01],\n",
              "        [-6.3333e-01,  6.7750e-01],\n",
              "        [ 7.1798e-02,  3.6429e-01],\n",
              "        [ 5.2149e-01, -4.3307e-01],\n",
              "        [-2.7772e-01,  5.4842e-01],\n",
              "        [ 2.3730e-01, -6.3224e-01],\n",
              "        [ 4.0556e-01, -6.2670e-02],\n",
              "        [ 3.8857e-01,  4.2224e-01],\n",
              "        [-8.1821e-02, -1.6019e-02],\n",
              "        [-3.3329e-01, -1.7495e-01]], requires_grad=True)"
            ]
          },
          "metadata": {},
          "execution_count": 63
        }
      ]
    },
    {
      "cell_type": "code",
      "source": [
        "values.bias"
      ],
      "metadata": {
        "id": "x6ToIE0ln83Z"
      },
      "execution_count": 64,
      "outputs": []
    },
    {
      "cell_type": "code",
      "source": [
        "class SimpleSelfAttention(nn.Module):\n",
        "\n",
        "  def __init__(self, d_in, d_out):\n",
        "    super(SimpleSelfAttention, self).__init__()\n",
        "\n",
        "    self.d_in = d_in\n",
        "    self.d_out = d_out\n",
        "\n",
        "    self.Q = nn.Linear(d_in, d_out)\n",
        "    self.K = nn.Linear(d_in, d_out)\n",
        "    self.V = nn.Linear(d_in, d_out)\n",
        "\n",
        "\n",
        "  def forward(self, x):\n",
        "    queries = self.Q(x)\n",
        "    keys = self.K(x)\n",
        "    values = self.V(x)\n",
        "\n",
        "    scores = torch.bmm(queries, keys.transpose(1,2))\n",
        "    scores = scores / (self.d_out ** 0.5)\n",
        "\n",
        "    attention = F.softmax(scores)\n",
        "\n",
        "    hidden_state = torch.bmm(attention, values)\n",
        "\n",
        "    return hidden_state\n"
      ],
      "metadata": {
        "id": "dVuuqkisoLRt"
      },
      "execution_count": 65,
      "outputs": []
    },
    {
      "cell_type": "code",
      "source": [
        "SOS_TOKEN = 0\n",
        "EOS_TOKEN = 1\n",
        "\n",
        "index2words = {\n",
        "    SOS_TOKEN: \"SOS\",\n",
        "    EOS_TOKEN: \"EOS\"\n",
        "}\n",
        "\n",
        "words = \"How are you doing ? I am good and you ?\"\n",
        "\n",
        "words_list = set(words.lower().split(' '))"
      ],
      "metadata": {
        "id": "xEv2MWJE4RQg"
      },
      "execution_count": 66,
      "outputs": []
    },
    {
      "cell_type": "code",
      "source": [
        "words_list\n"
      ],
      "metadata": {
        "colab": {
          "base_uri": "https://localhost:8080/"
        },
        "id": "Qx-p1Vf941fM",
        "outputId": "4080d85b-d8f3-4a41-ad48-24da592347dd"
      },
      "execution_count": 67,
      "outputs": [
        {
          "output_type": "execute_result",
          "data": {
            "text/plain": [
              "{'?', 'am', 'and', 'are', 'doing', 'good', 'how', 'i', 'you'}"
            ]
          },
          "metadata": {},
          "execution_count": 67
        }
      ]
    },
    {
      "cell_type": "code",
      "source": [
        "for word in words_list:\n",
        "  index2words[len(index2words)] = word"
      ],
      "metadata": {
        "id": "nnopF_A042aq"
      },
      "execution_count": 68,
      "outputs": []
    },
    {
      "cell_type": "code",
      "source": [
        "index2words\n"
      ],
      "metadata": {
        "colab": {
          "base_uri": "https://localhost:8080/"
        },
        "id": "5Dvp8fNE4-hs",
        "outputId": "69957405-f909-4aa4-e052-c7b3f81343b5"
      },
      "execution_count": 69,
      "outputs": [
        {
          "output_type": "execute_result",
          "data": {
            "text/plain": [
              "{0: 'SOS',\n",
              " 1: 'EOS',\n",
              " 2: 'and',\n",
              " 3: 'are',\n",
              " 4: 'i',\n",
              " 5: 'good',\n",
              " 6: 'doing',\n",
              " 7: 'you',\n",
              " 8: 'am',\n",
              " 9: '?',\n",
              " 10: 'how'}"
            ]
          },
          "metadata": {},
          "execution_count": 69
        }
      ]
    },
    {
      "cell_type": "code",
      "source": [
        "words2index = {w: i for i, w in index2words.items()}"
      ],
      "metadata": {
        "id": "n-UHqquu4_9Z"
      },
      "execution_count": 70,
      "outputs": []
    },
    {
      "cell_type": "code",
      "source": [
        "words2index"
      ],
      "metadata": {
        "colab": {
          "base_uri": "https://localhost:8080/"
        },
        "id": "iXMuSS3N5HZ2",
        "outputId": "c253333d-3d1a-4bb7-f6e7-9657ad5997a3"
      },
      "execution_count": 71,
      "outputs": [
        {
          "output_type": "execute_result",
          "data": {
            "text/plain": [
              "{'SOS': 0,\n",
              " 'EOS': 1,\n",
              " 'and': 2,\n",
              " 'are': 3,\n",
              " 'i': 4,\n",
              " 'good': 5,\n",
              " 'doing': 6,\n",
              " 'you': 7,\n",
              " 'am': 8,\n",
              " '?': 9,\n",
              " 'how': 10}"
            ]
          },
          "metadata": {},
          "execution_count": 71
        }
      ]
    },
    {
      "cell_type": "code",
      "source": [
        "def convert2tensor(sentence):\n",
        "  words_list = sentence.lower().split(' ')\n",
        "  indexes = [words2index[word] for word in words_list]\n",
        "  return torch.tensor(indexes, dtype=torch.long).view(1,-1)"
      ],
      "metadata": {
        "id": "P9x1sEy45QAD"
      },
      "execution_count": 72,
      "outputs": []
    },
    {
      "cell_type": "code",
      "source": [
        "sentence = \"How are you doing ?\"\n",
        "convert2tensor(sentence)"
      ],
      "metadata": {
        "colab": {
          "base_uri": "https://localhost:8080/"
        },
        "id": "E7ywGHBx5hoK",
        "outputId": "2c3c55ae-30c3-4cf9-84c6-86c8d17264af"
      },
      "execution_count": 73,
      "outputs": [
        {
          "output_type": "execute_result",
          "data": {
            "text/plain": [
              "tensor([[10,  3,  7,  6,  9]])"
            ]
          },
          "metadata": {},
          "execution_count": 73
        }
      ]
    },
    {
      "cell_type": "code",
      "source": [
        "indexes = convert2tensor(sentence)"
      ],
      "metadata": {
        "id": "bHqVIviA5rse"
      },
      "execution_count": 74,
      "outputs": []
    },
    {
      "cell_type": "code",
      "source": [
        "indexes.size()"
      ],
      "metadata": {
        "colab": {
          "base_uri": "https://localhost:8080/"
        },
        "id": "F0bcyMpg5v6-",
        "outputId": "ce1e2fd9-96f7-4dc4-8551-eb7c1a352a13"
      },
      "execution_count": 75,
      "outputs": [
        {
          "output_type": "execute_result",
          "data": {
            "text/plain": [
              "torch.Size([1, 5])"
            ]
          },
          "metadata": {},
          "execution_count": 75
        }
      ]
    },
    {
      "cell_type": "code",
      "source": [
        "HIDDEN_SIZE = 10\n",
        "VOCAB_SIZE = len(words2index)\n",
        "\n",
        "embedding = nn.Embedding(VOCAB_SIZE, HIDDEN_SIZE)\n",
        "attention = SimpleSelfAttention(HIDDEN_SIZE, HIDDEN_SIZE)\n",
        "\n",
        "\n",
        "sentence = \"How are you doing ?\"\n",
        "input_tensor = convert2tensor(sentence)\n",
        "embedded = embedding(input_tensor)\n",
        "embedded"
      ],
      "metadata": {
        "colab": {
          "base_uri": "https://localhost:8080/"
        },
        "id": "38V5UcLn5w40",
        "outputId": "257e2483-5ad9-4338-ab0a-7495462a1df7"
      },
      "execution_count": 76,
      "outputs": [
        {
          "output_type": "execute_result",
          "data": {
            "text/plain": [
              "tensor([[[ 0.4484,  2.8696, -0.9035,  0.5159,  1.9699,  0.4072, -1.2199,\n",
              "          -0.1126, -0.1233,  0.9234],\n",
              "         [-1.3750,  0.1516,  1.3441,  0.9616, -1.5485,  1.9630, -0.2597,\n",
              "          -0.0829, -0.3105, -0.6952],\n",
              "         [ 0.5953, -0.5703, -1.5308, -0.0853, -2.4764,  0.2231, -0.1105,\n",
              "           0.1674,  1.3860, -1.0135],\n",
              "         [ 1.3144, -0.3012,  1.5836,  1.6488, -0.5957,  0.9042,  0.1411,\n",
              "           0.8006,  0.3337, -0.6912],\n",
              "         [-0.3179,  1.5882, -0.6722,  0.9146,  0.3372, -1.2006, -0.2145,\n",
              "           0.2696,  0.2773,  0.4300]]], grad_fn=<EmbeddingBackward0>)"
            ]
          },
          "metadata": {},
          "execution_count": 76
        }
      ]
    },
    {
      "cell_type": "code",
      "source": [
        "embedded.size()"
      ],
      "metadata": {
        "colab": {
          "base_uri": "https://localhost:8080/"
        },
        "id": "R7_MFhXQ6Spr",
        "outputId": "84050e7a-bd1c-4c82-eb09-493a2797611d"
      },
      "execution_count": 77,
      "outputs": [
        {
          "output_type": "execute_result",
          "data": {
            "text/plain": [
              "torch.Size([1, 5, 10])"
            ]
          },
          "metadata": {},
          "execution_count": 77
        }
      ]
    },
    {
      "cell_type": "code",
      "source": [
        "hidden_states = attention(embedded)"
      ],
      "metadata": {
        "colab": {
          "base_uri": "https://localhost:8080/"
        },
        "id": "oyijh1Lh6UyW",
        "outputId": "ac56b4b1-ffdf-42ca-8a0a-c78a51a30368"
      },
      "execution_count": 78,
      "outputs": [
        {
          "output_type": "stream",
          "name": "stderr",
          "text": [
            "<ipython-input-65-40cf13dbe4e9>:22: UserWarning: Implicit dimension choice for softmax has been deprecated. Change the call to include dim=X as an argument.\n",
            "  attention = F.softmax(scores)\n"
          ]
        }
      ]
    },
    {
      "cell_type": "code",
      "source": [
        "hidden_states"
      ],
      "metadata": {
        "colab": {
          "base_uri": "https://localhost:8080/"
        },
        "id": "2MLgaxly6g6d",
        "outputId": "fabcbe1a-8750-4bb1-8987-7488d6a0f15d"
      },
      "execution_count": 79,
      "outputs": [
        {
          "output_type": "execute_result",
          "data": {
            "text/plain": [
              "tensor([[[-2.3638, -2.8103,  0.6418, -1.5894,  1.1509, -0.6191,  0.9160,\n",
              "          -0.8259, -1.4455, -0.9779],\n",
              "         [-2.3638, -2.8103,  0.6418, -1.5894,  1.1509, -0.6191,  0.9160,\n",
              "          -0.8259, -1.4455, -0.9779],\n",
              "         [-2.3638, -2.8103,  0.6418, -1.5894,  1.1509, -0.6191,  0.9160,\n",
              "          -0.8259, -1.4455, -0.9779],\n",
              "         [-2.3638, -2.8103,  0.6418, -1.5894,  1.1509, -0.6191,  0.9160,\n",
              "          -0.8259, -1.4455, -0.9779],\n",
              "         [-2.3638, -2.8103,  0.6418, -1.5894,  1.1509, -0.6191,  0.9160,\n",
              "          -0.8259, -1.4455, -0.9779]]], grad_fn=<BmmBackward0>)"
            ]
          },
          "metadata": {},
          "execution_count": 79
        }
      ]
    },
    {
      "cell_type": "code",
      "source": [
        "hidden_states.size()"
      ],
      "metadata": {
        "colab": {
          "base_uri": "https://localhost:8080/"
        },
        "id": "kZAFXKQt7AL1",
        "outputId": "e9781104-fa4d-4b18-ceb6-d133c15aa055"
      },
      "execution_count": 80,
      "outputs": [
        {
          "output_type": "execute_result",
          "data": {
            "text/plain": [
              "torch.Size([1, 5, 10])"
            ]
          },
          "metadata": {},
          "execution_count": 80
        }
      ]
    },
    {
      "cell_type": "code",
      "source": [
        "d_in = HIDDEN_SIZE\n",
        "d_out = HIDDEN_SIZE\n",
        "\n",
        "Q = nn.Linear(d_in, d_out)\n",
        "K = nn.Linear(d_in, d_out)\n",
        "V = nn.Linear(d_in, d_out)"
      ],
      "metadata": {
        "id": "oV76IouA7Bxx"
      },
      "execution_count": 81,
      "outputs": []
    },
    {
      "cell_type": "code",
      "source": [
        "Q"
      ],
      "metadata": {
        "colab": {
          "base_uri": "https://localhost:8080/"
        },
        "id": "vPmJD0xR9YpP",
        "outputId": "014f20ff-eece-4dc9-9470-36ed355c2012"
      },
      "execution_count": 82,
      "outputs": [
        {
          "output_type": "execute_result",
          "data": {
            "text/plain": [
              "Linear(in_features=10, out_features=10, bias=True)"
            ]
          },
          "metadata": {},
          "execution_count": 82
        }
      ]
    },
    {
      "cell_type": "code",
      "source": [
        "K"
      ],
      "metadata": {
        "colab": {
          "base_uri": "https://localhost:8080/"
        },
        "id": "b8YGZI6P9ZGh",
        "outputId": "d5797dd0-0d5c-49d5-b72a-047e8692dbbb"
      },
      "execution_count": 83,
      "outputs": [
        {
          "output_type": "execute_result",
          "data": {
            "text/plain": [
              "Linear(in_features=10, out_features=10, bias=True)"
            ]
          },
          "metadata": {},
          "execution_count": 83
        }
      ]
    },
    {
      "cell_type": "code",
      "source": [
        "V"
      ],
      "metadata": {
        "colab": {
          "base_uri": "https://localhost:8080/"
        },
        "id": "Quzt-vJu9Z_N",
        "outputId": "2f7f2a14-f68c-4895-8f8f-60f53968f125"
      },
      "execution_count": 84,
      "outputs": [
        {
          "output_type": "execute_result",
          "data": {
            "text/plain": [
              "Linear(in_features=10, out_features=10, bias=True)"
            ]
          },
          "metadata": {},
          "execution_count": 84
        }
      ]
    },
    {
      "cell_type": "code",
      "source": [
        "Q.weight"
      ],
      "metadata": {
        "colab": {
          "base_uri": "https://localhost:8080/"
        },
        "id": "9lcPNl829aXB",
        "outputId": "d749e9c6-836a-4994-8312-892b14a2a30f"
      },
      "execution_count": 85,
      "outputs": [
        {
          "output_type": "execute_result",
          "data": {
            "text/plain": [
              "Parameter containing:\n",
              "tensor([[ 0.0751,  0.0735,  0.2432, -0.2527, -0.1377, -0.1305,  0.0895,  0.1730,\n",
              "          0.2954,  0.2423],\n",
              "        [ 0.1623, -0.3091,  0.2639,  0.0650, -0.0324, -0.1573, -0.3036, -0.1084,\n",
              "          0.2875, -0.1767],\n",
              "        [ 0.0217,  0.2514, -0.0302, -0.2532,  0.1251, -0.0370,  0.0336,  0.2756,\n",
              "         -0.2655,  0.1307],\n",
              "        [-0.3132,  0.2718, -0.1704, -0.3006, -0.0312,  0.2924, -0.2788,  0.2873,\n",
              "          0.2895, -0.0085],\n",
              "        [ 0.0088, -0.2562,  0.1172, -0.2874,  0.0125,  0.3108,  0.0103, -0.3132,\n",
              "          0.1727,  0.3104],\n",
              "        [ 0.1546, -0.0415,  0.1655, -0.2884, -0.1611,  0.3038, -0.1051,  0.0412,\n",
              "          0.2226, -0.2285],\n",
              "        [-0.2137,  0.0745,  0.2620, -0.0351, -0.1941,  0.2743,  0.1025, -0.2799,\n",
              "         -0.2072, -0.3105],\n",
              "        [-0.2244,  0.0528, -0.1830, -0.1941,  0.1719,  0.3031,  0.1722, -0.1224,\n",
              "         -0.0223,  0.0301],\n",
              "        [-0.1100,  0.2692,  0.0654,  0.3083,  0.1927,  0.1840, -0.1219,  0.2234,\n",
              "          0.0012, -0.1684],\n",
              "        [-0.0405, -0.0798, -0.1292, -0.3158, -0.0761, -0.0474,  0.1211,  0.0812,\n",
              "         -0.1998,  0.0557]], requires_grad=True)"
            ]
          },
          "metadata": {},
          "execution_count": 85
        }
      ]
    },
    {
      "cell_type": "code",
      "source": [
        "sentence = \"How are you doing ?\"\n",
        "input_tensor = convert2tensor(sentence)\n",
        "embedded = embedding(input_tensor)\n",
        "embedded"
      ],
      "metadata": {
        "colab": {
          "base_uri": "https://localhost:8080/"
        },
        "id": "X_GDBxg39rRx",
        "outputId": "225dd2ff-8209-4475-ee76-6aea2b254f2a"
      },
      "execution_count": 86,
      "outputs": [
        {
          "output_type": "execute_result",
          "data": {
            "text/plain": [
              "tensor([[[ 0.4484,  2.8696, -0.9035,  0.5159,  1.9699,  0.4072, -1.2199,\n",
              "          -0.1126, -0.1233,  0.9234],\n",
              "         [-1.3750,  0.1516,  1.3441,  0.9616, -1.5485,  1.9630, -0.2597,\n",
              "          -0.0829, -0.3105, -0.6952],\n",
              "         [ 0.5953, -0.5703, -1.5308, -0.0853, -2.4764,  0.2231, -0.1105,\n",
              "           0.1674,  1.3860, -1.0135],\n",
              "         [ 1.3144, -0.3012,  1.5836,  1.6488, -0.5957,  0.9042,  0.1411,\n",
              "           0.8006,  0.3337, -0.6912],\n",
              "         [-0.3179,  1.5882, -0.6722,  0.9146,  0.3372, -1.2006, -0.2145,\n",
              "           0.2696,  0.2773,  0.4300]]], grad_fn=<EmbeddingBackward0>)"
            ]
          },
          "metadata": {},
          "execution_count": 86
        }
      ]
    },
    {
      "cell_type": "code",
      "source": [
        "keys = K(embedded)"
      ],
      "metadata": {
        "id": "Dv-WWqhW9xkA"
      },
      "execution_count": 89,
      "outputs": []
    },
    {
      "cell_type": "code",
      "source": [
        "keys"
      ],
      "metadata": {
        "colab": {
          "base_uri": "https://localhost:8080/"
        },
        "id": "9J2M9vAw91mU",
        "outputId": "6fec23b4-8a9a-444f-fec9-cf2c63fd7fcd"
      },
      "execution_count": 90,
      "outputs": [
        {
          "output_type": "execute_result",
          "data": {
            "text/plain": [
              "tensor([[[-0.4545,  0.5926, -0.4372,  0.3479, -0.1554,  0.9619, -0.3094,\n",
              "           1.3898, -0.0463, -0.0612],\n",
              "         [-0.1358,  0.5239, -0.6684, -0.7774, -0.1650,  0.1561,  0.0172,\n",
              "          -0.1913,  0.9861, -1.1609],\n",
              "         [ 0.0363, -0.0446,  0.6692, -1.6894, -0.0305, -0.2130, -0.2201,\n",
              "          -0.1407, -0.5690, -0.1875],\n",
              "         [-0.2554,  1.3012, -0.4328, -0.3100,  0.6252, -0.7503,  0.1489,\n",
              "          -0.6630,  0.2348, -0.3658],\n",
              "         [-0.2768,  0.3774,  0.2837, -0.1215,  0.0984,  0.5114,  0.4355,\n",
              "           1.2921, -0.5621,  0.2994]]], grad_fn=<ViewBackward0>)"
            ]
          },
          "metadata": {},
          "execution_count": 90
        }
      ]
    },
    {
      "cell_type": "code",
      "source": [
        "keys.size()"
      ],
      "metadata": {
        "colab": {
          "base_uri": "https://localhost:8080/"
        },
        "id": "X-P7DiBY96yB",
        "outputId": "94e62420-47ee-41b4-9554-f8f30c8f093b"
      },
      "execution_count": 91,
      "outputs": [
        {
          "output_type": "execute_result",
          "data": {
            "text/plain": [
              "torch.Size([1, 5, 10])"
            ]
          },
          "metadata": {},
          "execution_count": 91
        }
      ]
    },
    {
      "cell_type": "code",
      "source": [
        "values = V(embedded)\n",
        "queries = Q(embedded)"
      ],
      "metadata": {
        "id": "66imYIH9-Li5"
      },
      "execution_count": 92,
      "outputs": []
    },
    {
      "cell_type": "code",
      "source": [
        "# variance\n",
        "values.var(), queries.var()"
      ],
      "metadata": {
        "colab": {
          "base_uri": "https://localhost:8080/"
        },
        "id": "vZCfmxtMCgrK",
        "outputId": "da8e67e5-a818-4c28-821c-18c609ef71bb"
      },
      "execution_count": 115,
      "outputs": [
        {
          "output_type": "execute_result",
          "data": {
            "text/plain": [
              "(tensor(0.3691, grad_fn=<VarBackward0>),\n",
              " tensor(0.4447, grad_fn=<VarBackward0>))"
            ]
          },
          "metadata": {},
          "execution_count": 115
        }
      ]
    },
    {
      "cell_type": "code",
      "source": [],
      "metadata": {
        "id": "jQrZt6rpCgh9"
      },
      "execution_count": null,
      "outputs": []
    },
    {
      "cell_type": "code",
      "source": [
        "values.size()"
      ],
      "metadata": {
        "colab": {
          "base_uri": "https://localhost:8080/"
        },
        "id": "D1bcetmL-Lgk",
        "outputId": "dfca4571-0f4b-4a13-e107-24dd80d8f1fd"
      },
      "execution_count": 93,
      "outputs": [
        {
          "output_type": "execute_result",
          "data": {
            "text/plain": [
              "torch.Size([1, 5, 10])"
            ]
          },
          "metadata": {},
          "execution_count": 93
        }
      ]
    },
    {
      "cell_type": "code",
      "source": [
        "queries.size()"
      ],
      "metadata": {
        "colab": {
          "base_uri": "https://localhost:8080/"
        },
        "id": "VPQ97T4j-Ldl",
        "outputId": "95508567-75ee-430a-d19e-14f1b84c6ea8"
      },
      "execution_count": 94,
      "outputs": [
        {
          "output_type": "execute_result",
          "data": {
            "text/plain": [
              "torch.Size([1, 5, 10])"
            ]
          },
          "metadata": {},
          "execution_count": 94
        }
      ]
    },
    {
      "cell_type": "code",
      "source": [
        "scores = torch.bmm(input=keys, mat2=queries.transpose(1,2))"
      ],
      "metadata": {
        "id": "yb4r5haM97vc"
      },
      "execution_count": 96,
      "outputs": []
    },
    {
      "cell_type": "code",
      "source": [
        "# variance\n",
        "values.var(), queries.var()"
      ],
      "metadata": {
        "colab": {
          "base_uri": "https://localhost:8080/"
        },
        "id": "wJrTxt3RCyJt",
        "outputId": "1988a31f-e3bf-42f1-bfce-8457182a17a1"
      },
      "execution_count": 116,
      "outputs": [
        {
          "output_type": "execute_result",
          "data": {
            "text/plain": [
              "(tensor(0.3691, grad_fn=<VarBackward0>),\n",
              " tensor(0.4447, grad_fn=<VarBackward0>))"
            ]
          },
          "metadata": {},
          "execution_count": 116
        }
      ]
    },
    {
      "cell_type": "code",
      "source": [
        "scores.var()"
      ],
      "metadata": {
        "colab": {
          "base_uri": "https://localhost:8080/"
        },
        "id": "ljISBTXhCzY2",
        "outputId": "245c4692-1d21-4ea9-b768-4236b293c00b"
      },
      "execution_count": 117,
      "outputs": [
        {
          "output_type": "execute_result",
          "data": {
            "text/plain": [
              "tensor(1.5931, grad_fn=<VarBackward0>)"
            ]
          },
          "metadata": {},
          "execution_count": 117
        }
      ]
    },
    {
      "cell_type": "code",
      "source": [
        "scores"
      ],
      "metadata": {
        "colab": {
          "base_uri": "https://localhost:8080/"
        },
        "id": "BFO2E_OS-hJB",
        "outputId": "e6bc91bf-b1b7-4a85-a252-2f9f138db8cb"
      },
      "execution_count": 97,
      "outputs": [
        {
          "output_type": "execute_result",
          "data": {
            "text/plain": [
              "tensor([[[ 0.2310,  1.3922,  1.7466,  0.2899, -0.7407],\n",
              "         [ 0.1478,  1.5709,  0.1406,  3.4693,  0.5907],\n",
              "         [-0.9966, -1.9246, -1.0777,  0.7015,  0.3237],\n",
              "         [-1.9914, -0.1161, -0.2837,  1.4838, -0.8076],\n",
              "         [-0.8486,  0.9610,  0.5063, -0.7855, -1.4285]]],\n",
              "       grad_fn=<BmmBackward0>)"
            ]
          },
          "metadata": {},
          "execution_count": 97
        }
      ]
    },
    {
      "cell_type": "code",
      "source": [
        "scores.size()"
      ],
      "metadata": {
        "colab": {
          "base_uri": "https://localhost:8080/"
        },
        "id": "p8kYTDiP-lUx",
        "outputId": "40e5d036-3888-454a-9e86-ec39234f6673"
      },
      "execution_count": 98,
      "outputs": [
        {
          "output_type": "execute_result",
          "data": {
            "text/plain": [
              "torch.Size([1, 5, 5])"
            ]
          },
          "metadata": {},
          "execution_count": 98
        }
      ]
    },
    {
      "cell_type": "code",
      "source": [
        "#normalize variance\n",
        "normalize_scores = scores / (d_out ** 0.5)"
      ],
      "metadata": {
        "id": "aYUgI2rT-nXn"
      },
      "execution_count": 101,
      "outputs": []
    },
    {
      "cell_type": "code",
      "source": [
        "print(\"Variance of queries, values, keuys: \",  queries.var(), values.var(), keys.var())\n",
        "# before normalize\n",
        "print(\"before_ normailze:\", scores.var())\n",
        "# after normalize\n",
        "print(\"After Normalize: \", normalize_scores.var())"
      ],
      "metadata": {
        "colab": {
          "base_uri": "https://localhost:8080/"
        },
        "id": "zI7beCTLC61s",
        "outputId": "c1c34523-e89f-4072-f8d1-8e93d277b50c"
      },
      "execution_count": 125,
      "outputs": [
        {
          "output_type": "stream",
          "name": "stdout",
          "text": [
            "Variance of queries, values, keuys:  tensor(0.4447, grad_fn=<VarBackward0>) tensor(0.3691, grad_fn=<VarBackward0>) tensor(0.3649, grad_fn=<VarBackward0>)\n",
            "before_ normailze: tensor(1.5931, grad_fn=<VarBackward0>)\n",
            "After Normalize:  tensor(0.1593, grad_fn=<VarBackward0>)\n"
          ]
        }
      ]
    },
    {
      "cell_type": "code",
      "source": [
        "normalize_scores"
      ],
      "metadata": {
        "colab": {
          "base_uri": "https://localhost:8080/"
        },
        "id": "bR7LkRtP-2b2",
        "outputId": "9c635c81-7d8e-4f5a-faa5-09bcbf11286d"
      },
      "execution_count": 126,
      "outputs": [
        {
          "output_type": "execute_result",
          "data": {
            "text/plain": [
              "tensor([[[ 0.0730,  0.4403,  0.5523,  0.0917, -0.2342],\n",
              "         [ 0.0467,  0.4968,  0.0445,  1.0971,  0.1868],\n",
              "         [-0.3151, -0.6086, -0.3408,  0.2218,  0.1024],\n",
              "         [-0.6297, -0.0367, -0.0897,  0.4692, -0.2554],\n",
              "         [-0.2683,  0.3039,  0.1601, -0.2484, -0.4517]]],\n",
              "       grad_fn=<DivBackward0>)"
            ]
          },
          "metadata": {},
          "execution_count": 126
        }
      ]
    },
    {
      "cell_type": "code",
      "source": [
        "normalize_scores.size()"
      ],
      "metadata": {
        "colab": {
          "base_uri": "https://localhost:8080/"
        },
        "id": "Z09cJWC__BP0",
        "outputId": "9b758e81-9aa4-4fef-ee3f-6c770c651680"
      },
      "execution_count": 103,
      "outputs": [
        {
          "output_type": "execute_result",
          "data": {
            "text/plain": [
              "torch.Size([1, 5, 5])"
            ]
          },
          "metadata": {},
          "execution_count": 103
        }
      ]
    },
    {
      "cell_type": "code",
      "source": [
        "# change to probability\n",
        "\n",
        "probability_scores = attentions =  torch.softmax(normalize_scores, dim=-1)"
      ],
      "metadata": {
        "id": "gPlpQ2TH_Dbk"
      },
      "execution_count": 104,
      "outputs": []
    },
    {
      "cell_type": "code",
      "source": [
        "probability_scores"
      ],
      "metadata": {
        "colab": {
          "base_uri": "https://localhost:8080/"
        },
        "id": "-GJRrOWK_TKQ",
        "outputId": "caba6f03-3653-49c1-c635-2b7f4030339d"
      },
      "execution_count": 106,
      "outputs": [
        {
          "output_type": "execute_result",
          "data": {
            "text/plain": [
              "tensor([[[0.1720, 0.2484, 0.2778, 0.1753, 0.1265],\n",
              "         [0.1320, 0.2070, 0.1317, 0.3774, 0.1519],\n",
              "         [0.1681, 0.1253, 0.1638, 0.2876, 0.2552],\n",
              "         [0.1114, 0.2015, 0.1911, 0.3342, 0.1619],\n",
              "         [0.1623, 0.2877, 0.2492, 0.1656, 0.1351]]],\n",
              "       grad_fn=<SoftmaxBackward0>)"
            ]
          },
          "metadata": {},
          "execution_count": 106
        }
      ]
    },
    {
      "cell_type": "code",
      "source": [
        "probability_scores.size()"
      ],
      "metadata": {
        "colab": {
          "base_uri": "https://localhost:8080/"
        },
        "id": "e2-lnBUP_VQ1",
        "outputId": "ed310577-2063-48b8-a255-5576e4727ef7"
      },
      "execution_count": 108,
      "outputs": [
        {
          "output_type": "execute_result",
          "data": {
            "text/plain": [
              "torch.Size([1, 5, 5])"
            ]
          },
          "metadata": {},
          "execution_count": 108
        }
      ]
    },
    {
      "cell_type": "code",
      "source": [
        "hidden_state = torch.bmm(attentions, values)\n"
      ],
      "metadata": {
        "id": "3Oxt-_Lo_aM5"
      },
      "execution_count": 110,
      "outputs": []
    },
    {
      "cell_type": "code",
      "source": [
        "hidden_state"
      ],
      "metadata": {
        "colab": {
          "base_uri": "https://localhost:8080/"
        },
        "id": "MMWrH-Ho_sgM",
        "outputId": "ef21cb50-6068-444a-f8bd-80194c364687"
      },
      "execution_count": 111,
      "outputs": [
        {
          "output_type": "execute_result",
          "data": {
            "text/plain": [
              "tensor([[[-0.5315,  0.0225,  0.1819, -0.3955,  0.2597, -0.3418, -0.0068,\n",
              "          -0.5554,  0.1463,  0.2392],\n",
              "         [-0.5591,  0.1517,  0.1867, -0.4996,  0.1146, -0.2975,  0.2468,\n",
              "          -0.4611,  0.1741,  0.1936],\n",
              "         [-0.3604,  0.0889,  0.1225, -0.4348, -0.0771, -0.2743,  0.2131,\n",
              "          -0.4430,  0.2728,  0.1760],\n",
              "         [-0.5295,  0.1151,  0.1471, -0.4857,  0.1896, -0.3399,  0.1387,\n",
              "          -0.4723,  0.1482,  0.2493],\n",
              "         [-0.5731,  0.0462,  0.1938, -0.4060,  0.2623, -0.3116,  0.0116,\n",
              "          -0.5832,  0.1413,  0.2076]]], grad_fn=<BmmBackward0>)"
            ]
          },
          "metadata": {},
          "execution_count": 111
        }
      ]
    },
    {
      "cell_type": "code",
      "source": [
        "hidden_state.size()"
      ],
      "metadata": {
        "colab": {
          "base_uri": "https://localhost:8080/"
        },
        "id": "0tc1G09f_xSP",
        "outputId": "3897ba11-d72e-4c01-9ae7-5727142af1d4"
      },
      "execution_count": 112,
      "outputs": [
        {
          "output_type": "execute_result",
          "data": {
            "text/plain": [
              "torch.Size([1, 5, 10])"
            ]
          },
          "metadata": {},
          "execution_count": 112
        }
      ]
    },
    {
      "cell_type": "markdown",
      "source": [
        "# Positional Encoding\n"
      ],
      "metadata": {
        "id": "gYbTAX2Pjn9j"
      }
    },
    {
      "cell_type": "code",
      "source": [
        "class PositionalEncoding(nn.Module):\n",
        "  def __init__(self, d_model, max_sequence_length):\n",
        "    super(PositionalEncoding, self).__init__()\n",
        "\n",
        "    self.max_sequence_length = max_sequence_length\n",
        "    self.d_model = d_model\n",
        "\n",
        "\n",
        "  def forward(self):\n",
        "    even_i = torch.arange(0, self.d_model, 2).float()\n",
        "    denominator = torch.pow(10000, (2 * even_i / self.d_model))\n",
        "    position = torch.arange(self.max_sequence_length).reshape(self.max_sequence_length, 1)\n",
        "    even_PE = torch.sin(position / denominator)\n",
        "    odd_PE = torch.cos(position/denominator)\n",
        "    stacked = torch.stack([even_PE, odd_PE], dim=2)\n",
        "    PE = torch.flatten(stacked, start_dim=1, end_dim=2)\n",
        "    return PE"
      ],
      "metadata": {
        "id": "HuR7WVaB_zJx"
      },
      "execution_count": 159,
      "outputs": []
    },
    {
      "cell_type": "code",
      "source": [],
      "metadata": {
        "id": "kNrpC51SLK1g"
      },
      "execution_count": 159,
      "outputs": []
    },
    {
      "cell_type": "code",
      "source": [],
      "metadata": {
        "id": "oXmgN3EeLNVF"
      },
      "execution_count": 159,
      "outputs": []
    },
    {
      "cell_type": "code",
      "source": [
        "tensor1 = torch.tensor([1,2,3], dtype=torch.float32)\n",
        "tensor2 = torch.tensor([11,12,13], dtype=torch.float32)\n",
        "\n"
      ],
      "metadata": {
        "id": "5Mk4vFtoLQEG"
      },
      "execution_count": 160,
      "outputs": []
    },
    {
      "cell_type": "code",
      "source": [
        "two = torch.stack((tensor1, tensor2), dim=-1)\n",
        "two"
      ],
      "metadata": {
        "colab": {
          "base_uri": "https://localhost:8080/"
        },
        "id": "ho2-WiIOLRh7",
        "outputId": "b3e50550-1950-4871-c728-f58bc40794cf"
      },
      "execution_count": 161,
      "outputs": [
        {
          "output_type": "execute_result",
          "data": {
            "text/plain": [
              "tensor([[ 1., 11.],\n",
              "        [ 2., 12.],\n",
              "        [ 3., 13.]])"
            ]
          },
          "metadata": {},
          "execution_count": 161
        }
      ]
    },
    {
      "cell_type": "code",
      "source": [
        "torch.flatten(two,start_dim=-2)"
      ],
      "metadata": {
        "colab": {
          "base_uri": "https://localhost:8080/"
        },
        "id": "XTs309_SLc2q",
        "outputId": "3f472a5a-34c4-45b5-e2ba-743c1af3614e"
      },
      "execution_count": 162,
      "outputs": [
        {
          "output_type": "execute_result",
          "data": {
            "text/plain": [
              "tensor([ 1., 11.,  2., 12.,  3., 13.])"
            ]
          },
          "metadata": {},
          "execution_count": 162
        }
      ]
    },
    {
      "cell_type": "code",
      "source": [
        "pe = PositionalEncoding(d_model=6, max_sequence_length=10)\n",
        "pe.forward()\n",
        ""
      ],
      "metadata": {
        "colab": {
          "base_uri": "https://localhost:8080/"
        },
        "id": "RBPJ3WN_nWnt",
        "outputId": "28320c03-1069-4c5f-ab90-086647541dda"
      },
      "execution_count": 163,
      "outputs": [
        {
          "output_type": "execute_result",
          "data": {
            "text/plain": [
              "tensor([[ 0.0000e+00,  1.0000e+00,  0.0000e+00,  1.0000e+00,  0.0000e+00,\n",
              "          1.0000e+00],\n",
              "        [ 8.4147e-01,  5.4030e-01,  2.1544e-03,  1.0000e+00,  4.6416e-06,\n",
              "          1.0000e+00],\n",
              "        [ 9.0930e-01, -4.1615e-01,  4.3089e-03,  9.9999e-01,  9.2832e-06,\n",
              "          1.0000e+00],\n",
              "        [ 1.4112e-01, -9.8999e-01,  6.4633e-03,  9.9998e-01,  1.3925e-05,\n",
              "          1.0000e+00],\n",
              "        [-7.5680e-01, -6.5364e-01,  8.6176e-03,  9.9996e-01,  1.8566e-05,\n",
              "          1.0000e+00],\n",
              "        [-9.5892e-01,  2.8366e-01,  1.0772e-02,  9.9994e-01,  2.3208e-05,\n",
              "          1.0000e+00],\n",
              "        [-2.7942e-01,  9.6017e-01,  1.2926e-02,  9.9992e-01,  2.7850e-05,\n",
              "          1.0000e+00],\n",
              "        [ 6.5699e-01,  7.5390e-01,  1.5080e-02,  9.9989e-01,  3.2491e-05,\n",
              "          1.0000e+00],\n",
              "        [ 9.8936e-01, -1.4550e-01,  1.7235e-02,  9.9985e-01,  3.7133e-05,\n",
              "          1.0000e+00],\n",
              "        [ 4.1212e-01, -9.1113e-01,  1.9389e-02,  9.9981e-01,  4.1774e-05,\n",
              "          1.0000e+00]])"
            ]
          },
          "metadata": {},
          "execution_count": 163
        }
      ]
    },
    {
      "cell_type": "code",
      "source": [],
      "metadata": {
        "id": "9HZA1oFcpchn"
      },
      "execution_count": 163,
      "outputs": []
    }
  ]
}